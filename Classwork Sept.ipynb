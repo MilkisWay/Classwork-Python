{
 "cells": [
  {
   "cell_type": "code",
   "execution_count": 28,
   "id": "efbe00f2-b0fc-44b3-8633-881fe3ace710",
   "metadata": {},
   "outputs": [
    {
     "name": "stdout",
     "output_type": "stream",
     "text": [
      "Nope\n",
      "тупоуг\n"
     ]
    }
   ],
   "source": [
    "def G(x):\n",
    "    if d**2==(f**2+k**2):\n",
    "        return ('прямоуг')\n",
    "    elif d**2>(f**2+k**2):\n",
    "        return('тупоуг')\n",
    "    else:\n",
    "        return('остроуг')\n",
    "\n",
    "a=16\n",
    "b=10\n",
    "c=0\n",
    "x=1\n",
    "\n",
    "print(G(x))"
   ]
  },
  {
   "cell_type": "code",
   "execution_count": 40,
   "id": "f9984dc2-3da5-43a0-bc8b-b2041bd1d1e5",
   "metadata": {},
   "outputs": [
    {
     "name": "stdout",
     "output_type": "stream",
     "text": [
      "прямоуг\n"
     ]
    }
   ],
   "source": [
    "a=[3,4,5].sort()\n",
    "if (a[2])**2==((a[1])**2+(a[0])**2):\n",
    "    print ('прямоуг')\n",
    "elif (a[2])**2>((a[1])**2+(a[0])**2):\n",
    "    print('тупоуг')\n",
    "else:\n",
    "    print('остроуг')\n"
   ]
  },
  {
   "cell_type": "code",
   "execution_count": 6,
   "id": "44d43db5",
   "metadata": {},
   "outputs": [
    {
     "name": "stdout",
     "output_type": "stream",
     "text": [
      "39916800\n"
     ]
    }
   ],
   "source": [
    "import math\n",
    "a=11\n",
    "print(math.factorial(int(a)))"
   ]
  },
  {
   "cell_type": "code",
   "execution_count": 61,
   "id": "2c2c721a",
   "metadata": {},
   "outputs": [
    {
     "name": "stdout",
     "output_type": "stream",
     "text": [
      "the apple is red and cherry the the berry is blue blue!\n",
      "the apple is red and cherry the the berry is blue blue\n",
      "{'the': 10, 'apple': 4, 'is': 7, 'red': 4, 'and': 4, 'cherry': 4, 'berry': 4, 'blue': 7}\n"
     ]
    }
   ],
   "source": [
    "s = \"The apple is red and cherry the the berry is blue blue!\"\n",
    "s=s.lower()\n",
    "print(s)\n",
    "s = re.sub(r'[^\\w\\s]','', s)\n",
    "print(s)\n",
    "a=s.split()\n",
    "g=''\n",
    "for i in range(0,len(a)):\n",
    "    g=a[i]\n",
    "    if g in d:\n",
    "        d[g]=d[g]+1\n",
    "    else:\n",
    "        d[g]=1\n",
    "print(d)"
   ]
  },
  {
   "cell_type": "code",
   "execution_count": 72,
   "id": "36dde7ac",
   "metadata": {},
   "outputs": [
    {
     "name": "stdout",
     "output_type": "stream",
     "text": [
      "the time apple is red and cherry the the  path life loppe berry is blue blue!\n",
      "the time apple is red and cherry the the  path life loppe berry is blue blue\n",
      "{'the': 3, 'time': 1, 'apple': 1, 'is': 2, 'red': 1, 'and': 1, 'cherry': 1, 'path': 1, 'life': 1, 'loppe': 1, 'berry': 1, 'blue': 2}\n"
     ]
    }
   ],
   "source": [
    "s =\"The Time apple is red and cherry the the  Path LiFe LOPPe berry is blue blue!\"\n",
    "s=s.lower()\n",
    "print(s)\n",
    "s = re.sub(r'[^\\w\\s]','', s)\n",
    "print(s)\n",
    "a=s.split()\n",
    "g=''\n",
    "d={}\n",
    "for i in range(0,len(a)):\n",
    "    g=a[i]\n",
    "    if g in d:\n",
    "        d[g]=d[g]+1\n",
    "    else:\n",
    "        d[g]=1\n",
    "print(d)"
   ]
  },
  {
   "cell_type": "code",
   "execution_count": null,
   "id": "a1c0d51f",
   "metadata": {},
   "outputs": [],
   "source": []
  },
  {
   "cell_type": "code",
   "execution_count": null,
   "id": "d4b89ebc",
   "metadata": {},
   "outputs": [],
   "source": []
  }
 ],
 "metadata": {
  "kernelspec": {
   "display_name": "Python 3",
   "language": "python",
   "name": "python3"
  },
  "language_info": {
   "codemirror_mode": {
    "name": "ipython",
    "version": 3
   },
   "file_extension": ".py",
   "mimetype": "text/x-python",
   "name": "python",
   "nbconvert_exporter": "python",
   "pygments_lexer": "ipython3",
   "version": "3.8.8"
  }
 },
 "nbformat": 4,
 "nbformat_minor": 5
}
